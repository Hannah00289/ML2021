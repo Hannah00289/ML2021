{
 "cells": [
  {
   "cell_type": "markdown",
   "id": "5c350910",
   "metadata": {},
   "source": [
    "# Homework 1: COVID-19 Cases Prediction (Regression) \n",
    "\n",
    "Objectives:\n",
    "* Solve a regression problem with deep neural networks (DNN).\n",
    "* Understand basic DNN training tips.\n",
    "* Get familiar with PyTorch."
   ]
  },
  {
   "cell_type": "markdown",
   "id": "7298043a",
   "metadata": {},
   "source": [
    "# Import some packages"
   ]
  },
  {
   "cell_type": "code",
   "execution_count": 1,
   "id": "8f19eb69",
   "metadata": {},
   "outputs": [],
   "source": [
    "# PyTorch\n",
    "import torch\n",
    "import torch.nn as nn\n",
    "from torch.utils.data import Dataset, DataLoader\n",
    "\n",
    "# for data preprocess\n",
    "import numpy as np\n",
    "import csv\n",
    "import os\n",
    "\n",
    "# For plotting\n",
    "import matplotlib.pyplot as plt\n",
    "from matplotlib.pyplot import figure\n",
    "\n",
    "\n",
    "myseed = 42069  # set a random seed for reproducibility\n",
    "torch.backends.cudnn.deterministic = True\n",
    "torch.backends.cudnn.benchmark = False\n",
    "np.random.seed(myseed)\n",
    "torch.manual_seed(myseed)\n",
    "if torch.cuda.is_available():\n",
    "    torch.cuda.manual_seed_all(myseed)"
   ]
  },
  {
   "cell_type": "markdown",
   "id": "decb8389",
   "metadata": {},
   "source": [
    "# Some Utilities"
   ]
  },
  {
   "cell_type": "code",
   "execution_count": 2,
   "id": "f0a1d1ac",
   "metadata": {},
   "outputs": [],
   "source": [
    "def get_device():\n",
    "    ''' Get device (if GPU is available, use GPU) '''\n",
    "    return 'cuda' if torch.cuda.is_available() else 'cpu'\n",
    "\n",
    "def plot_learning_curve(loss_record, title=''):\n",
    "    ''' Plot learning curve of your DNN (train & dev loss) '''\n",
    "    total_steps = len(loss_record['train'])\n",
    "    x_1 = range(total_steps)\n",
    "    x_2 = x_1[::len(loss_record['train']) // len(loss_record['dev'])]\n",
    "    figure(figsize=(6, 4))\n",
    "    plt.plot(x_1, loss_record['train'], c='tab:red', label='train')\n",
    "    plt.plot(x_2, loss_record['dev'], c='tab:cyan', label='dev')\n",
    "    plt.ylim(0.0, 5.)\n",
    "    plt.xlabel('Training steps')\n",
    "    plt.ylabel('MSE loss')\n",
    "    plt.title('Learning curve of {}'.format(title))\n",
    "    plt.legend()\n",
    "    plt.show()\n",
    "\n",
    "\n",
    "def plot_pred(dv_set, model, device, lim=35., preds=None, targets=None):\n",
    "    ''' Plot prediction of your DNN '''\n",
    "    if preds is None or targets is None:\n",
    "        model.eval()\n",
    "        preds, targets = [], []\n",
    "        for x, y in dv_set:\n",
    "            x, y = x.to(device), y.to(device)\n",
    "            with torch.no_grad():\n",
    "                pred = model(x)\n",
    "                preds.append(pred.detach().cpu())\n",
    "                targets.append(y.detach().cpu())\n",
    "        preds = torch.cat(preds, dim=0).numpy()\n",
    "        targets = torch.cat(targets, dim=0).numpy()\n",
    "\n",
    "    figure(figsize=(5, 5))\n",
    "    plt.scatter(targets, preds, c='r', alpha=0.5)\n",
    "    plt.plot([-0.2, lim], [-0.2, lim], c='b')\n",
    "    plt.xlim(-0.2, lim)\n",
    "    plt.ylim(-0.2, lim)\n",
    "    plt.xlabel('ground truth value')\n",
    "    plt.ylabel('predicted value')\n",
    "    plt.title('Ground Truth v.s. Prediction')\n",
    "    plt.show()"
   ]
  },
  {
   "cell_type": "markdown",
   "id": "9c7856df",
   "metadata": {},
   "source": [
    "# Preprocess\n",
    "split data into 3 parts:\n",
    "* training data\n",
    "* validation data\n",
    "* testing data"
   ]
  },
  {
   "cell_type": "markdown",
   "id": "d2061caa",
   "metadata": {},
   "source": [
    "## Dataset -- Delphi's COVID-19 surveys\n",
    "\n",
    "* state (40, encoded to one-hot vectors)\n",
    "* COVID-like illness (4, percentage)\n",
    "* Behavior indicators (8, percentage)\n",
    "* mental health indicators (5, percentage)\n",
    "* tested positive cases (1, percentage)\n",
    "    * tested_positive (ground truth, this is what we want to predict)"
   ]
  },
  {
   "cell_type": "code",
   "execution_count": 3,
   "id": "f9c41fb7",
   "metadata": {},
   "outputs": [],
   "source": [
    "# import covid-19 dataset using pandas library\n",
    "\n",
    "#import pandas as pd\n",
    "\n",
    "train_df_path = '/HDD/r11528028/covid dataset/covid.train.csv'\n",
    "test_df_path = '/HDD/r11528028/covid dataset/covid.test.csv'\n",
    "\n",
    "#covid_train_df = pd.read_csv(train_df_path)\n",
    "#covid_test_df = pd.read_csv(test_df_path)"
   ]
  },
  {
   "cell_type": "markdown",
   "id": "a0516138",
   "metadata": {},
   "source": [
    "covid_train_df is 2700 rows * 95 columns\n",
    "* 2700 samples\n",
    "* 95 columns\n",
    "    * id (1)\n",
    "    * state one-hot encoding (40)\n",
    "    * day 1 features (18)\n",
    "    * day 2 features (18)\n",
    "    * day 3 features (18)\n",
    "\n",
    "covid_test_df is 893 rows * 94 columns\n",
    "* 893 samples\n",
    "* 94 columns\n",
    "    * id (1)\n",
    "    * state one-hot encoding (40)\n",
    "    * day 1 features (18)\n",
    "    * day 2 features (18)\n",
    "    * day 3 features (17***)"
   ]
  },
  {
   "cell_type": "markdown",
   "id": "06a02586",
   "metadata": {},
   "source": [
    "The COVID19Dataset below does:\n",
    "\n",
    "* read .csv files\n",
    "* extract features\n",
    "* split covid.train.csv into train/dev sets\n",
    "* normalize features"
   ]
  },
  {
   "cell_type": "code",
   "execution_count": 4,
   "id": "c99056e1",
   "metadata": {},
   "outputs": [],
   "source": [
    "class COVID19Dataset(Dataset):\n",
    "    ''' Dataset for loading and preprocessing the COVID19 dataset '''\n",
    "    def __init__(self,\n",
    "                 path,\n",
    "                 mode='train',\n",
    "                 target_only=False):\n",
    "        self.mode = mode\n",
    "\n",
    "        # Read data into numpy arrays\n",
    "        with open(path, 'r') as fp:\n",
    "            data = list(csv.reader(fp))\n",
    "            data = np.array(data[1:])[:, 1:].astype(float)\n",
    "        \n",
    "        if not target_only:\n",
    "            feats = list(range(93))\n",
    "        else:\n",
    "            # TODO: Using 40 states & 2 tested_positive features (indices = 57 & 75)\n",
    "            \n",
    "            # indices: 0~39, 57, 75\n",
    "            feats = list(range(40))\n",
    "            feats.append(57)\n",
    "            feats.append(75)\n",
    "\n",
    "            \n",
    "        if mode == 'test':\n",
    "            # Testing data\n",
    "            # data: 893 x 93 (40 states + day 1 (18) + day 2 (18) + day 3 (17))\n",
    "            data = data[:, feats]\n",
    "            self.data = torch.FloatTensor(data)\n",
    "        else:\n",
    "            # Training data (train/dev sets)\n",
    "            # data: 2700 x 94 (40 states + day 1 (18) + day 2 (18) + day 3 (18))\n",
    "            target = data[:, -1]\n",
    "            data = data[:, feats]\n",
    "            \n",
    "            # Splitting training data into train & dev sets\n",
    "            if mode == 'train':\n",
    "                indices = [i for i in range(len(data)) if i % 10 != 0]\n",
    "            elif mode == 'dev':\n",
    "                indices = [i for i in range(len(data)) if i % 10 == 0]\n",
    "            \n",
    "            # Convert data into PyTorch tensors\n",
    "            self.data = torch.FloatTensor(data[indices])\n",
    "            self.target = torch.FloatTensor(target[indices])\n",
    "\n",
    "        # Normalize features (you may remove this part to see what will happen)\n",
    "        self.data[:, 40:] = \\\n",
    "            (self.data[:, 40:] - self.data[:, 40:].mean(dim=0, keepdim=True)) \\\n",
    "            / self.data[:, 40:].std(dim=0, keepdim=True)\n",
    "\n",
    "        self.dim = self.data.shape[1]\n",
    "\n",
    "        print('Finished reading the {} set of COVID19 Dataset ({} samples found, each dim = {})'\n",
    "              .format(mode, len(self.data), self.dim))\n",
    "\n",
    "    def __getitem__(self, index):\n",
    "        # Returns one sample at a time\n",
    "        if self.mode in ['train', 'dev']:\n",
    "            # For training\n",
    "            return self.data[index], self.target[index]\n",
    "        else:\n",
    "            # For testing (no target)\n",
    "            return self.data[index]\n",
    "\n",
    "    def __len__(self):\n",
    "        # Returns the size of the dataset\n",
    "        return len(self.data)"
   ]
  },
  {
   "cell_type": "markdown",
   "id": "034a5a43",
   "metadata": {},
   "source": [
    "## DataLoader\n",
    "a DataLoader loads data from a given dataset into batches"
   ]
  },
  {
   "cell_type": "code",
   "execution_count": 5,
   "id": "88eb876b",
   "metadata": {},
   "outputs": [],
   "source": [
    "def prep_dataloader(path, mode, batch_size, n_jobs=0, target_only=False):\n",
    "    ''' Generates a dataset, then is put into a dataloader. '''\n",
    "    dataset = COVID19Dataset(path, mode=mode, target_only=target_only)  # Construct dataset\n",
    "    dataloader = DataLoader(\n",
    "        dataset, batch_size,\n",
    "        shuffle=(mode == 'train'), drop_last=False,\n",
    "        num_workers=n_jobs, pin_memory=True)                            # Construct dataloader\n",
    "    return dataloader"
   ]
  },
  {
   "attachments": {
    "image.png": {
     "image/png": "[encoded data removed]"
    }
   },
   "cell_type": "markdown",
   "id": "c5fd649e",
   "metadata": {},
   "source": [
    "# Deep Neural Network\n",
    "NeuralNet is an nn.Module designed for regression. The DNN consists of 2 fully-connected layers with ReLU activation. This module also included a function cal_loss for calculating loss.\n",
    "\n",
    "#### TODO: you may implement L1/L2 regularization here\n",
    "choosing L1 regularization as feature selection:\n",
    "![image.png](attachment:image.png)\n",
    "* what is the order to do the sum of parameter??"
   ]
  },
  {
   "cell_type": "code",
   "execution_count": 6,
   "id": "02fa786a",
   "metadata": {},
   "outputs": [],
   "source": [
    "class NeuralNet(nn.Module):\n",
    "    ''' A simple fully-connected deep neural network '''\n",
    "    def __init__(self, input_dim):\n",
    "        super(NeuralNet, self).__init__()\n",
    "\n",
    "        # Define your neural network here\n",
    "        # TODO: How to modify this model to achieve better performance?\n",
    "        self.net = nn.Sequential(\n",
    "            nn.Linear(input_dim, 64),\n",
    "            nn.ReLU(),\n",
    "            nn.Linear(64, 1)\n",
    "        )\n",
    "\n",
    "        # Mean squared error loss\n",
    "        self.criterion = nn.MSELoss(reduction='mean')\n",
    "\n",
    "    def forward(self, x):\n",
    "        ''' Given input of size (batch_size x input_dim), compute output of the network '''\n",
    "        return self.net(x).squeeze(1)\n",
    "\n",
    "    def cal_loss(self, pred, target):\n",
    "        ''' Calculate loss '''\n",
    "        #return self.criterion(pred, target)\n",
    "        \n",
    "        # TODO: you may implement L1/L2 regularization here\n",
    "        \n",
    "        loss = self.criterion(pred, target)\n",
    "        \n",
    "        '''\n",
    "        # L1 regularization for feature selection\n",
    "        l1_lambda = config['l1_lambda']\n",
    "        l1_regularization = torch.tensor(0., requires_grad = True)\n",
    "        \n",
    "        for param in model.parameters():\n",
    "            #l1_regularization += torch.norm(param, p=1)\n",
    "            l1_regularization = l1_regularization + torch.norm(param, p=1)\n",
    "            # torch.norm(x, p=1) : sum(abs(x)**ord)**(1./ord)\n",
    "        \n",
    "        loss = loss + l1_lambda*l1_regularization\n",
    "        '''\n",
    "        \n",
    "        # L2 regularization for feature selection\n",
    "        l2_lambda = config['l2_lambda']\n",
    "        l2_regularization = torch.tensor(0., requires_grad=True)\n",
    "        for param in model.parameters():\n",
    "            l2_regularization = l2_regularization + torch.norm(param, p=2)\n",
    "        loss = loss + l2_lambda*l2_regularization\n",
    "        \n",
    "        return loss"
   ]
  },
  {
   "cell_type": "markdown",
   "id": "c033bdbc",
   "metadata": {},
   "source": [
    "# Train/Dev/Test\n",
    "\n",
    "## Train"
   ]
  },
  {
   "cell_type": "code",
   "execution_count": 7,
   "id": "1146db8e",
   "metadata": {},
   "outputs": [],
   "source": [
    "def train(tr_set, dv_set, model, config, device):\n",
    "    ''' DNN training '''\n",
    "\n",
    "    n_epochs = config['n_epochs']  # Maximum number of epochs\n",
    "\n",
    "    # Setup optimizer\n",
    "    optimizer = getattr(torch.optim, config['optimizer'])(\n",
    "        model.parameters(), **config['optim_hparas'])\n",
    "\n",
    "    min_mse = 1000.\n",
    "    loss_record = {'train': [], 'dev': []}      # for recording training loss\n",
    "    early_stop_cnt = 0\n",
    "    epoch = 0\n",
    "    while epoch < n_epochs:\n",
    "        model.train()                           # set model to training mode\n",
    "        for x, y in tr_set:                     # iterate through the dataloader\n",
    "            optimizer.zero_grad()               # set gradient to zero\n",
    "            x, y = x.to(device), y.to(device)   # move data to device (cpu/cuda)\n",
    "            pred = model(x)                     # forward pass (compute output)\n",
    "            mse_loss = model.cal_loss(pred, y)  # compute loss\n",
    "            mse_loss.backward()                 # compute gradient (backpropagation)\n",
    "            optimizer.step()                    # update model with optimizer\n",
    "            loss_record['train'].append(mse_loss.detach().cpu().item())\n",
    "\n",
    "        # After each epoch, test your model on the validation (development) set.\n",
    "        dev_mse = dev(dv_set, model, device)\n",
    "        if dev_mse < min_mse:\n",
    "            # Save model if your model improved\n",
    "            min_mse = dev_mse\n",
    "            print('Saving model (epoch = {:4d}, loss = {:.4f})'\n",
    "                .format(epoch + 1, min_mse))\n",
    "            torch.save(model.state_dict(), config['save_path'])  # Save model to specified path\n",
    "            early_stop_cnt = 0\n",
    "        else:\n",
    "            early_stop_cnt += 1\n",
    "\n",
    "        epoch += 1\n",
    "        loss_record['dev'].append(dev_mse)\n",
    "        if early_stop_cnt > config['early_stop']:\n",
    "            # Stop training if your model stops improving for \"config['early_stop']\" epochs.\n",
    "            break\n",
    "\n",
    "    print('Finished training after {} epochs'.format(epoch))\n",
    "    return min_mse, loss_record"
   ]
  },
  {
   "cell_type": "markdown",
   "id": "d85a26d7",
   "metadata": {},
   "source": [
    "## Validation"
   ]
  },
  {
   "cell_type": "code",
   "execution_count": 8,
   "id": "f5127aa2",
   "metadata": {},
   "outputs": [],
   "source": [
    "def dev(dv_set, model, device):\n",
    "    model.eval()                                # set model to evalutation mode\n",
    "    total_loss = 0\n",
    "    for x, y in dv_set:                         # iterate through the dataloader\n",
    "        x, y = x.to(device), y.to(device)       # move data to device (cpu/cuda)\n",
    "        with torch.no_grad():                   # disable gradient calculation\n",
    "            pred = model(x)                     # forward pass (compute output)\n",
    "            mse_loss = model.cal_loss(pred, y)  # compute loss\n",
    "        total_loss += mse_loss.detach().cpu().item() * len(x)  # accumulate loss\n",
    "    total_loss = total_loss / len(dv_set.dataset)              # compute averaged loss\n",
    "\n",
    "    return total_loss"
   ]
  },
  {
   "cell_type": "markdown",
   "id": "e38cf497",
   "metadata": {},
   "source": [
    "## Testing"
   ]
  },
  {
   "cell_type": "code",
   "execution_count": 9,
   "id": "4f02209d",
   "metadata": {},
   "outputs": [],
   "source": [
    "def test(tt_set, model, device):\n",
    "    model.eval()                                # set model to evalutation mode\n",
    "    preds = []\n",
    "    for x in tt_set:                            # iterate through the dataloader\n",
    "        x = x.to(device)                        # move data to device (cpu/cuda)\n",
    "        with torch.no_grad():                   # disable gradient calculation\n",
    "            pred = model(x)                     # forward pass (compute output)\n",
    "            preds.append(pred.detach().cpu())   # collect prediction\n",
    "    preds = torch.cat(preds, dim=0).numpy()     # concatenate all predictions and convert to a numpy array\n",
    "    return preds"
   ]
  },
  {
   "cell_type": "markdown",
   "id": "208a16fd",
   "metadata": {},
   "source": [
    "# Hyperparameters"
   ]
  },
  {
   "cell_type": "code",
   "execution_count": 10,
   "id": "51e4051e",
   "metadata": {},
   "outputs": [],
   "source": [
    "#device = get_device()                 # get the current available device ('cpu' or 'cuda')\n",
    "device = torch.device(\"cuda:1\" if torch.cuda.is_available() else \"cpu\")\n",
    "\n",
    "os.makedirs('models', exist_ok=True)  # The trained model will be saved to ./models/\n",
    "target_only = False                   # TODO: Using 40 states & 2 tested_positive features\n",
    "\n",
    "# TODO: How to tune these hyper-parameters to improve your model's performance?\n",
    "config = {\n",
    "    'n_epochs': 3000,                # maximum number of epochs\n",
    "    'batch_size': 270,               # mini-batch size for dataloader\n",
    "    'l1_lambda' : 0.005,             # lambda for l1 regularization\n",
    "    'l2_lambda' : 0.001,             # lambda for l2 regularization\n",
    "    'optimizer': 'SGD',              # optimization algorithm (optimizer in torch.optim)\n",
    "    'optim_hparas': {                # hyper-parameters for the optimizer (depends on which optimizer you are using)\n",
    "        'lr': 0.001,                 # learning rate of SGD\n",
    "        'momentum': 0.9              # momentum for SGD\n",
    "    },\n",
    "    'early_stop': 200,               # early stopping epochs (the number epochs since your model's last improvement)\n",
    "    'save_path': 'models/model_l2_regularization.pth'  # your model will be saved here\n",
    "}"
   ]
  },
  {
   "cell_type": "markdown",
   "id": "ec680068",
   "metadata": {},
   "source": [
    "# load data"
   ]
  },
  {
   "cell_type": "code",
   "execution_count": 11,
   "id": "0ce74c9e",
   "metadata": {},
   "outputs": [
    {
     "name": "stdout",
     "output_type": "stream",
     "text": [
      "Finished reading the train set of COVID19 Dataset (2430 samples found, each dim = 93)\n",
      "Finished reading the dev set of COVID19 Dataset (270 samples found, each dim = 93)\n",
      "Finished reading the test set of COVID19 Dataset (893 samples found, each dim = 93)\n"
     ]
    }
   ],
   "source": [
    "tr_set = prep_dataloader(train_df_path, 'train', config['batch_size'], target_only=target_only)\n",
    "dv_set = prep_dataloader(train_df_path, 'dev', config['batch_size'], target_only=target_only)\n",
    "tt_set = prep_dataloader(test_df_path, 'test', config['batch_size'], target_only=target_only)"
   ]
  },
  {
   "cell_type": "markdown",
   "id": "12924fea",
   "metadata": {},
   "source": [
    "# Build model"
   ]
  },
  {
   "cell_type": "code",
   "execution_count": 12,
   "id": "7b236928",
   "metadata": {},
   "outputs": [],
   "source": [
    "model = NeuralNet(tr_set.dataset.dim).to(device)  # Construct model and move to device"
   ]
  },
  {
   "cell_type": "markdown",
   "id": "92d8a2ac",
   "metadata": {},
   "source": [
    "# Start training"
   ]
  },
  {
   "cell_type": "code",
   "execution_count": 13,
   "id": "9246134a",
   "metadata": {
    "scrolled": true
   },
   "outputs": [
    {
     "name": "stdout",
     "output_type": "stream",
     "text": [
      "Saving model (epoch =    1, loss = 78.8644)\n",
      "Saving model (epoch =    2, loss = 37.6283)\n",
      "Saving model (epoch =    3, loss = 26.1322)\n",
      "Saving model (epoch =    4, loss = 16.1990)\n",
      "Saving model (epoch =    5, loss = 9.7295)\n",
      "Saving model (epoch =    6, loss = 6.3848)\n",
      "Saving model (epoch =    7, loss = 5.1947)\n",
      "Saving model (epoch =    8, loss = 4.4401)\n",
      "Saving model (epoch =    9, loss = 3.8159)\n",
      "Saving model (epoch =   10, loss = 3.3847)\n",
      "Saving model (epoch =   11, loss = 3.1097)\n",
      "Saving model (epoch =   12, loss = 2.8330)\n",
      "Saving model (epoch =   13, loss = 2.6428)\n",
      "Saving model (epoch =   14, loss = 2.4696)\n",
      "Saving model (epoch =   15, loss = 2.3165)\n",
      "Saving model (epoch =   16, loss = 2.1921)\n",
      "Saving model (epoch =   17, loss = 2.0797)\n",
      "Saving model (epoch =   18, loss = 1.9557)\n",
      "Saving model (epoch =   19, loss = 1.9138)\n",
      "Saving model (epoch =   20, loss = 1.8107)\n",
      "Saving model (epoch =   21, loss = 1.7319)\n",
      "Saving model (epoch =   22, loss = 1.6615)\n",
      "Saving model (epoch =   23, loss = 1.6076)\n",
      "Saving model (epoch =   24, loss = 1.5762)\n",
      "Saving model (epoch =   25, loss = 1.5362)\n",
      "Saving model (epoch =   26, loss = 1.4863)\n",
      "Saving model (epoch =   27, loss = 1.4351)\n",
      "Saving model (epoch =   28, loss = 1.4156)\n",
      "Saving model (epoch =   29, loss = 1.3857)\n",
      "Saving model (epoch =   30, loss = 1.3604)\n",
      "Saving model (epoch =   31, loss = 1.3392)\n",
      "Saving model (epoch =   32, loss = 1.2994)\n",
      "Saving model (epoch =   33, loss = 1.2965)\n",
      "Saving model (epoch =   34, loss = 1.2630)\n",
      "Saving model (epoch =   36, loss = 1.2571)\n",
      "Saving model (epoch =   37, loss = 1.2293)\n",
      "Saving model (epoch =   38, loss = 1.2238)\n",
      "Saving model (epoch =   41, loss = 1.1741)\n",
      "Saving model (epoch =   42, loss = 1.1641)\n",
      "Saving model (epoch =   44, loss = 1.1366)\n",
      "Saving model (epoch =   47, loss = 1.1283)\n",
      "Saving model (epoch =   48, loss = 1.1097)\n",
      "Saving model (epoch =   50, loss = 1.1001)\n",
      "Saving model (epoch =   53, loss = 1.0810)\n",
      "Saving model (epoch =   54, loss = 1.0767)\n",
      "Saving model (epoch =   57, loss = 1.0678)\n",
      "Saving model (epoch =   58, loss = 1.0548)\n",
      "Saving model (epoch =   60, loss = 1.0418)\n",
      "Saving model (epoch =   63, loss = 1.0398)\n",
      "Saving model (epoch =   66, loss = 1.0253)\n",
      "Saving model (epoch =   70, loss = 0.9987)\n",
      "Saving model (epoch =   72, loss = 0.9974)\n",
      "Saving model (epoch =   73, loss = 0.9899)\n",
      "Saving model (epoch =   75, loss = 0.9825)\n",
      "Saving model (epoch =   78, loss = 0.9806)\n",
      "Saving model (epoch =   79, loss = 0.9757)\n",
      "Saving model (epoch =   85, loss = 0.9712)\n",
      "Saving model (epoch =   86, loss = 0.9689)\n",
      "Saving model (epoch =   90, loss = 0.9623)\n",
      "Saving model (epoch =   92, loss = 0.9590)\n",
      "Saving model (epoch =   93, loss = 0.9385)\n",
      "Saving model (epoch =   95, loss = 0.9278)\n",
      "Saving model (epoch =  104, loss = 0.9268)\n",
      "Saving model (epoch =  107, loss = 0.9143)\n",
      "Saving model (epoch =  110, loss = 0.9085)\n",
      "Saving model (epoch =  116, loss = 0.9039)\n",
      "Saving model (epoch =  124, loss = 0.9024)\n",
      "Saving model (epoch =  128, loss = 0.8878)\n",
      "Saving model (epoch =  139, loss = 0.8828)\n",
      "Saving model (epoch =  146, loss = 0.8811)\n",
      "Saving model (epoch =  156, loss = 0.8806)\n",
      "Saving model (epoch =  159, loss = 0.8691)\n",
      "Saving model (epoch =  167, loss = 0.8656)\n",
      "Saving model (epoch =  173, loss = 0.8641)\n",
      "Saving model (epoch =  176, loss = 0.8624)\n",
      "Saving model (epoch =  178, loss = 0.8564)\n",
      "Saving model (epoch =  182, loss = 0.8535)\n",
      "Saving model (epoch =  199, loss = 0.8450)\n",
      "Saving model (epoch =  212, loss = 0.8430)\n",
      "Saving model (epoch =  235, loss = 0.8407)\n",
      "Saving model (epoch =  238, loss = 0.8385)\n",
      "Saving model (epoch =  251, loss = 0.8364)\n",
      "Saving model (epoch =  253, loss = 0.8351)\n",
      "Saving model (epoch =  258, loss = 0.8323)\n",
      "Saving model (epoch =  284, loss = 0.8291)\n",
      "Saving model (epoch =  312, loss = 0.8235)\n",
      "Saving model (epoch =  324, loss = 0.8197)\n",
      "Saving model (epoch =  359, loss = 0.8194)\n",
      "Saving model (epoch =  400, loss = 0.8194)\n",
      "Saving model (epoch =  404, loss = 0.8164)\n",
      "Saving model (epoch =  466, loss = 0.8151)\n",
      "Saving model (epoch =  492, loss = 0.8150)\n",
      "Saving model (epoch =  525, loss = 0.8149)\n",
      "Saving model (epoch =  535, loss = 0.8149)\n",
      "Saving model (epoch =  561, loss = 0.8113)\n",
      "Saving model (epoch =  584, loss = 0.8067)\n",
      "Saving model (epoch =  667, loss = 0.8055)\n",
      "Saving model (epoch =  717, loss = 0.7995)\n",
      "Saving model (epoch =  776, loss = 0.7992)\n",
      "Saving model (epoch =  835, loss = 0.7986)\n",
      "Saving model (epoch =  866, loss = 0.7971)\n",
      "Saving model (epoch =  933, loss = 0.7961)\n",
      "Saving model (epoch =  965, loss = 0.7931)\n",
      "Saving model (epoch = 1027, loss = 0.7901)\n",
      "Saving model (epoch = 1119, loss = 0.7875)\n",
      "Saving model (epoch = 1196, loss = 0.7839)\n",
      "Saving model (epoch = 1234, loss = 0.7836)\n",
      "Saving model (epoch = 1243, loss = 0.7793)\n",
      "Saving model (epoch = 1323, loss = 0.7783)\n",
      "Finished training after 1524 epochs\n"
     ]
    }
   ],
   "source": [
    "model_loss, model_loss_record = train(tr_set, dv_set, model, config, device)"
   ]
  },
  {
   "cell_type": "code",
   "execution_count": 14,
   "id": "2962f1d1",
   "metadata": {
    "scrolled": true
   },
   "outputs": [
    {
     "data": {
      "image/png": "[encoded data removed]",
      "text/plain": [
       "<Figure size 600x400 with 1 Axes>"
      ]
     },
     "metadata": {},
     "output_type": "display_data"
    }
   ],
   "source": [
    "plot_learning_curve(model_loss_record, title='deep model')"
   ]
  },
  {
   "cell_type": "code",
   "execution_count": 15,
   "id": "596fab84",
   "metadata": {
    "scrolled": true
   },
   "outputs": [
    {
     "data": {
      "image/png": "[encoded data removed]",
      "text/plain": [
       "<Figure size 500x500 with 1 Axes>"
      ]
     },
     "metadata": {},
     "output_type": "display_data"
    }
   ],
   "source": [
    "del model\n",
    "model = NeuralNet(tr_set.dataset.dim).to(device)\n",
    "ckpt = torch.load(config['save_path'], map_location='cpu')  # Load your best model\n",
    "model.load_state_dict(ckpt)\n",
    "plot_pred(dv_set, model, device)  # Show prediction on the validation set"
   ]
  },
  {
   "cell_type": "markdown",
   "id": "154c7d30",
   "metadata": {},
   "source": [
    "# Testing"
   ]
  },
  {
   "cell_type": "code",
   "execution_count": 17,
   "id": "be2593a3",
   "metadata": {},
   "outputs": [
    {
     "name": "stdout",
     "output_type": "stream",
     "text": [
      "Saving results to pred_l2_regularization.csv\n"
     ]
    }
   ],
   "source": [
    "def save_pred(preds, file):\n",
    "    ''' Save predictions to specified file '''\n",
    "    print('Saving results to {}'.format(file))\n",
    "    with open(file, 'w') as fp:\n",
    "        writer = csv.writer(fp)\n",
    "        writer.writerow(['id', 'tested_positive'])\n",
    "        for i, p in enumerate(preds):\n",
    "            writer.writerow([i, p])\n",
    "\n",
    "preds = test(tt_set, model, device)  # predict COVID-19 cases with your model\n",
    "save_pred(preds, 'pred_l2_regularization.csv')         # save prediction file to pred.csv"
   ]
  }
 ],
 "metadata": {
  "kernelspec": {
   "display_name": "Python 3 (ipykernel)",
   "language": "python",
   "name": "python3"
  },
  "language_info": {
   "codemirror_mode": {
    "name": "ipython",
    "version": 3
   },
   "file_extension": ".py",
   "mimetype": "text/x-python",
   "name": "python",
   "nbconvert_exporter": "python",
   "pygments_lexer": "ipython3",
   "version": "3.11.4"
  }
 },
 "nbformat": 4,
 "nbformat_minor": 5
}
